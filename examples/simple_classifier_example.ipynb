{
 "cells": [
  {
   "cell_type": "markdown",
   "id": "bce6e2e1-cc12-4d5e-a2c3-b406f2861a8f",
   "metadata": {},
   "source": [
    "# Classifier example"
   ]
  },
  {
   "cell_type": "code",
   "execution_count": null,
   "id": "ba00215e-6f37-4bb9-b7a0-7d9e265bcc90",
   "metadata": {},
   "outputs": [],
   "source": [
    "import numpy as np\n",
    "import pandas as pd\n",
    "import napari"
   ]
  },
  {
   "cell_type": "code",
   "execution_count": null,
   "id": "ae9d59da-7504-4e22-9604-a01752306bae",
   "metadata": {},
   "outputs": [],
   "source": [
    "# Create a dummy label image\n",
    "shape = (1, 50, 50)\n",
    "lbl_img_np = np.zeros(shape).astype('uint16')\n",
    "lbl_img_np[0, 5:10, 5:10] = 1\n",
    "lbl_img_np[0, 15:20, 5:10] = 2\n",
    "lbl_img_np[0, 25:30, 5:10] = 3\n",
    "lbl_img_np[0, 5:10, 15:20] = 4\n",
    "lbl_img_np[0, 15:20, 15:20] = 5\n",
    "lbl_img_np[0, 25:30, 15:20] = 6\n",
    "lbl_img_np[0, 35:40, 15:20] = 7\n",
    "lbl_img_np[0, 35:40, 25:30] = 8\n",
    "lbl_img_np[0, 5:10, 35:40] = 9\n",
    "lbl_img_np[0, 25:30, 25:30] = 10\n",
    "lbl_img_np[0, 25:30, 35:40] = 11\n",
    "lbl_img_np[0, 5:10, 25:30] = 12\n",
    "lbl_img_np[0, 15:20, 25:30] = 13\n",
    "lbl_img_np[0, 15:20, 35:40] = 14\n",
    "lbl_img_np[0, 35:40, 5:10] = 15\n",
    "lbl_img_np[0, 35:40, 35:40] = 16"
   ]
  },
  {
   "cell_type": "code",
   "execution_count": null,
   "id": "76887cbb-d26e-4e59-9615-00de0d4b0ac6",
   "metadata": {},
   "outputs": [],
   "source": [
    "# Dummy dataframe for this test\n",
    "d = {'test': [-100, 200, 300, 500, 900, 300, 400, 500, 600, 700, 800, 300, 400, 500, 600, 700], \n",
    "     'label': [1, 2, 3, 4, 5, 6, 7, 8, 9, 10, 11, 12, 13, 14, 15, 16], \n",
    "     'feature1': [100, 200, 300, 500, 900, 1001, 1100, 1200, 1300, 1400, 1500, 1700, 1900, 2100, 2500, 3000], \n",
    "     'feature2': [2200, 2100, 2000, 1500, 1300, 1001, 1100, 1200, 1300, 1400, 1500, 900, 800, 700, 600, 500]}\n",
    "df1 = pd.DataFrame(data=d)\n",
    "df1.to_csv('test_df.csv', index=False)"
   ]
  },
  {
   "cell_type": "code",
   "execution_count": null,
   "id": "ab44d99f-320b-4a5d-83f2-a7477a765fe9",
   "metadata": {},
   "outputs": [],
   "source": [
    "viewer = napari.Viewer()\n",
    "viewer.add_image(lbl_img_np, scale =(1, 0.3, 0.3))\n",
    "a = viewer.add_labels(lbl_img_np, name='labels', scale =(1, 0.3, 0.3))\n",
    "viewer.window.activate()"
   ]
  },
  {
   "cell_type": "markdown",
   "id": "1f7dd357-bb8b-4b58-bf9b-56740d1f9059",
   "metadata": {},
   "source": [
    "## How to apply a trained classifier to a dataframe"
   ]
  },
  {
   "cell_type": "code",
   "execution_count": null,
   "id": "fc15de04-39ef-47cb-ab9f-7ff415f47c8b",
   "metadata": {},
   "outputs": [],
   "source": [
    "import pandas as pd\n",
    "import pickle\n",
    "classifier_path = 'test.clf'\n",
    "data = pd.read_csv('test_df.csv')\n",
    "with open(classifier_path, 'rb') as f:\n",
    "    clf = pickle.loads(f.read())\n",
    "prediction_data = clf.predict(data)\n",
    "data['prediction'] = prediction_data\n",
    "data"
   ]
  }
 ],
 "metadata": {
  "kernelspec": {
   "display_name": "Python 3 (ipykernel)",
   "language": "python",
   "name": "python3"
  },
  "language_info": {
   "codemirror_mode": {
    "name": "ipython",
    "version": 3
   },
   "file_extension": ".py",
   "mimetype": "text/x-python",
   "name": "python",
   "nbconvert_exporter": "python",
   "pygments_lexer": "ipython3",
   "version": "3.9.10"
  }
 },
 "nbformat": 4,
 "nbformat_minor": 5
}
